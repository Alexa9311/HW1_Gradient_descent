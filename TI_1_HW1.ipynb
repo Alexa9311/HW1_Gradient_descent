{
 "cells": [
  {
   "cell_type": "markdown",
   "metadata": {},
   "source": [
    "# Homework 0\n",
    "\n",
    "**Name:** -- Alexa Ruiz --\n",
    "\n",
    "**e-mail:** -- maria.ruiz0744@alumnos.udg.mx --"
   ]
  },
  {
   "cell_type": "markdown",
   "metadata": {},
   "source": [
    "# MODULES"
   ]
  },
  {
   "cell_type": "code",
   "execution_count": 8,
   "metadata": {},
   "outputs": [],
   "source": [
    "# Load modules\n",
    "import numpy as np "
   ]
  },
  {
   "cell_type": "code",
   "execution_count": 10,
   "metadata": {},
   "outputs": [],
   "source": [
    "import matplotlib.pyplot as plt"
   ]
  },
  {
   "cell_type": "markdown",
   "metadata": {},
   "source": [
    "# Theory on the Gradient Descent algorithm"
   ]
  },
  {
   "cell_type": "code",
   "execution_count": 17,
   "metadata": {},
   "outputs": [],
   "source": [
    "# Function to be optimized\n",
    "def sum_square(x):\n",
    "    return sum((i+1) * x[i]**2 for i in range (len(x)))\n",
    "\n",
    "def gradient(x): \n",
    "    return np.array([(i+1) * 2 * x[i] for i in range (len (x))])\n",
    "\n",
    "tasa_aprendizaje = 0.1 \n",
    "num_iteraciones = 50 \n",
    "x_actual = np.array([3.0, -4.0])\n",
    "\n",
    "historial = [x_actual.copy()]\n",
    "\n",
    "for _ in range (num_iteraciones): \n",
    "    grad = gradiente(x_actual)\n",
    "    x_actual -= tasa_aprendizaje * grad\n",
    "    historial.append(x_actual.copy())\n",
    "\n",
    "historial = np.array(historial)\n",
    "\n",
    "x_vals = np.linspace(-5, 5, 100)\n",
    "y_vals = np.linspace(-5, 5, 100)\n",
    "x,y = np.meshgrid(x_vals, y_vals)\n",
    "z= (1* x**2) + (2*y**2)\n",
    "\n"
   ]
  },
  {
   "cell_type": "code",
   "execution_count": 2,
   "metadata": {},
   "outputs": [],
   "source": [
    "# Run gradient descent algorithm"
   ]
  },
  {
   "cell_type": "code",
   "execution_count": 3,
   "metadata": {},
   "outputs": [],
   "source": [
    "# Plot the results\n",
    "plt.contourf (x,y,z, levels= 50), cmap='coolwarm' \n",
    "plt.plot(historial[:,0], histoial [:,1], 'ro-', 'trayectoria GD')\n",
    "plt.scatter ([0], [0], color= 'pink'), label= 'local minimun (0,0)', zorder= 5\n",
    "plt.colorbar()\n",
    "plt. title('Theory on the Gradient Descent algorithm')\n",
    "plt.xlabel('x1')\n",
    "plt.ylabel('x1')\n",
    "plt.legend()\n",
    "\n"
   ]
  }
 ],
 "metadata": {
  "kernelspec": {
   "display_name": "Python 3 (ipykernel)",
   "language": "python",
   "name": "python3"
  },
  "language_info": {
   "codemirror_mode": {
    "name": "ipython",
    "version": 3
   },
   "file_extension": ".py",
   "mimetype": "text/x-python",
   "name": "python",
   "nbconvert_exporter": "python",
   "pygments_lexer": "ipython3",
   "version": "3.13.1"
  }
 },
 "nbformat": 4,
 "nbformat_minor": 4
}
