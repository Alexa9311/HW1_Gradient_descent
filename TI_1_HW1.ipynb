{
 "cells": [
  {
   "cell_type": "markdown",
   "metadata": {},
   "source": [
    "# Homework 0\n",
    "\n",
    "**Name:** -- Alexa Ruiz --\n",
    "\n",
    "**e-mail:** -- maria.ruiz0744@alumnos.udg.mx --"
   ]
  },
  {
   "cell_type": "markdown",
   "metadata": {},
   "source": [
    "# MODULES"
   ]
  },
  {
   "cell_type": "code",
   "execution_count": null,
   "metadata": {},
   "outputs": [],
   "source": [
    "# Load modules\n",
    "import numpy as np "
   ]
  },
  {
   "cell_type": "code",
   "execution_count": null,
   "metadata": {},
   "outputs": [],
   "source": [
    "import matplotlib.pyplot as plt"
   ]
  },
  {
   "cell_type": "markdown",
   "metadata": {},
   "source": [
    "# Theory on the Gradient Descent algorithm"
   ]
  },
  {
   "cell_type": "code",
   "execution_count": null,
   "metadata": {},
   "outputs": [],
   "source": [
    "# Function to be optimized\n",
    "def sum_square(x):\n",
    "    indices = np.arange (1, len(x) + 1)\n",
    "    return np.sum (indices * x**2)"
   ]
  },
  {
   "cell_type": "code",
   "execution_count": 40,
   "metadata": {},
   "outputs": [],
   "source": [
    "# Run gradient descent algorithm\n",
    "def gradient(x): \n",
    "    indices = np.arange(1, len(x) + 1)\n",
    "    return 2 * indices * x \n",
    "\n",
    "learning_rate = 0.1 \n",
    "interation = 50 \n",
    "current_x = np.array ([4.0, -3.0])\n",
    "\n",
    "history = [current_x.copy()]\n",
    "for _ in range (interation): \n",
    "    grad = gradient (current_x)\n",
    "    current_x -= learning_rate * grad \n",
    "    history.append (current_x.copy())\n",
    "\n",
    "x_vals = np.linspace (-5, 5, 100)\n",
    "y_vals = np.linspace (-5, 5, 100)\n",
    "x,y = np.meshgrid (x_vals, y_vals)\n",
    "z = (1 * x**2) + (2 * y**2)"
   ]
  },
  {
   "cell_type": "code",
   "execution_count": null,
   "metadata": {},
   "outputs": [],
   "source": [
    "# Plot the results"
   ]
  }
 ],
 "metadata": {
  "kernelspec": {
   "display_name": "Python 3 (ipykernel)",
   "language": "python",
   "name": "python3"
  },
  "language_info": {
   "codemirror_mode": {
    "name": "ipython",
    "version": 3
   },
   "file_extension": ".py",
   "mimetype": "text/x-python",
   "name": "python",
   "nbconvert_exporter": "python",
   "pygments_lexer": "ipython3",
   "version": "3.13.1"
  }
 },
 "nbformat": 4,
 "nbformat_minor": 4
}
